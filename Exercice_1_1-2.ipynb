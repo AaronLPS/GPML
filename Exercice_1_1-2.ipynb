{
  "nbformat": 4,
  "nbformat_minor": 0,
  "metadata": {
    "colab": {
      "name": "Exercice 1_1-2.ipynb",
      "provenance": []
    },
    "kernelspec": {
      "name": "python361264bitpy36venvadabed43485049ce8b59998df609e929",
      "display_name": "Python 3.6.12 64-bit ('py3.6': venv)"
    }
  },
  "cells": [
    {
      "source": [
        "[![Open In Colab](https://colab.research.google.com/assets/colab-badge.svg)](https://colab.research.google.com/github/AaronLPS/GPML/blob/master/Exercice_1_1-2.ipynb)"
      ],
      "cell_type": "markdown",
      "metadata": {}
    },
    {
      "cell_type": "code",
      "metadata": {
        "id": "rJ6MCY-V8VLl",
        "colab_type": "code",
        "colab": {
          "base_uri": "https://localhost:8080/",
          "height": 136
        },
        "outputId": "d2cbc53a-877c-4e54-ea18-41d8a64e40ab",
        "tags": []
      },
      "source": [
        "# Here we are using Python3.6\n",
        "# I have tried Python3.7 and it launches errors\n",
        "!pip install rdflib\n",
        "!pip install pydotplus\n",
        "!pip install graphviz\n",
        "# this one is needed by rdflib otherwise it launches errors as well\n",
        "!pip install requests"
      ],
      "execution_count": 15,
      "outputs": [
        {
          "output_type": "stream",
          "name": "stdout",
          "text": "Requirement already satisfied: rdflib in /mnt/D/envs/py3.6/lib/python3.6/site-packages (5.0.0)\nRequirement already satisfied: pyparsing in /mnt/D/envs/py3.6/lib/python3.6/site-packages (from rdflib) (2.4.7)\nRequirement already satisfied: six in /mnt/D/envs/py3.6/lib/python3.6/site-packages (from rdflib) (1.15.0)\nRequirement already satisfied: isodate in /mnt/D/envs/py3.6/lib/python3.6/site-packages (from rdflib) (0.6.0)\n\u001b[33mWARNING: You are using pip version 20.1.1; however, version 20.2.3 is available.\nYou should consider upgrading via the '/mnt/D/envs/py3.6/bin/python -m pip install --upgrade pip' command.\u001b[0m\nRequirement already satisfied: pydotplus in /mnt/D/envs/py3.6/lib/python3.6/site-packages (2.0.2)\nRequirement already satisfied: pyparsing>=2.0.1 in /mnt/D/envs/py3.6/lib/python3.6/site-packages (from pydotplus) (2.4.7)\n\u001b[33mWARNING: You are using pip version 20.1.1; however, version 20.2.3 is available.\nYou should consider upgrading via the '/mnt/D/envs/py3.6/bin/python -m pip install --upgrade pip' command.\u001b[0m\nRequirement already satisfied: graphviz in /mnt/D/envs/py3.6/lib/python3.6/site-packages (0.14.1)\n\u001b[33mWARNING: You are using pip version 20.1.1; however, version 20.2.3 is available.\nYou should consider upgrading via the '/mnt/D/envs/py3.6/bin/python -m pip install --upgrade pip' command.\u001b[0m\nRequirement already satisfied: requests in /mnt/D/envs/py3.6/lib/python3.6/site-packages (2.24.0)\nRequirement already satisfied: idna<3,>=2.5 in /mnt/D/envs/py3.6/lib/python3.6/site-packages (from requests) (2.10)\nRequirement already satisfied: chardet<4,>=3.0.2 in /mnt/D/envs/py3.6/lib/python3.6/site-packages (from requests) (3.0.4)\nRequirement already satisfied: urllib3!=1.25.0,!=1.25.1,<1.26,>=1.21.1 in /mnt/D/envs/py3.6/lib/python3.6/site-packages (from requests) (1.25.10)\nRequirement already satisfied: certifi>=2017.4.17 in /mnt/D/envs/py3.6/lib/python3.6/site-packages (from requests) (2020.6.20)\n\u001b[33mWARNING: You are using pip version 20.1.1; however, version 20.2.3 is available.\nYou should consider upgrading via the '/mnt/D/envs/py3.6/bin/python -m pip install --upgrade pip' command.\u001b[0m\n"
        }
      ]
    },
    {
      "cell_type": "code",
      "metadata": {
        "id": "ewTlSRu78b10",
        "colab_type": "code",
        "colab": {}
      },
      "source": [
        "import rdflib\n",
        "from rdflib import Graph\n",
        "from rdflib.namespace import ClosedNamespace\n",
        "from rdflib import Literal, URIRef\n",
        "\n",
        "# for visualization\n",
        "import io\n",
        "import pydotplus\n",
        "from IPython.display import display, Image\n",
        "from rdflib.tools.rdf2dot import rdf2dot"
      ],
      "execution_count": 16,
      "outputs": []
    },
    {
      "cell_type": "code",
      "metadata": {
        "id": "Ya68tsk29P6y",
        "colab_type": "code",
        "colab": {}
      },
      "source": [
        "def visualize(g):\n",
        "    \"\"\"https://stackoverflow.com/questions/39274216/visualize-an-rdflib-graph-in-python\"\"\"\n",
        "    stream = io.StringIO()\n",
        "    rdf2dot(g, stream, opts = {display})\n",
        "    dg = pydotplus.graph_from_dot_data(stream.getvalue())\n",
        "    png = dg.create_png()\n",
        "    display(Image(png))\n"
      ],
      "execution_count": 17,
      "outputs": []
    },
    {
      "cell_type": "code",
      "metadata": {
        "id": "jtMECLqW8jNK",
        "colab_type": "code",
        "colab": {}
      },
      "source": [
        "# Let's define our own vocabulary\n",
        "DSB = ClosedNamespace(\n",
        "    uri=URIRef(\"https://og.dsb.org/\"),\n",
        "    terms=[\n",
        "        \"City\",\n",
        "        \"Route\",\n",
        "        \"connection\",\n",
        "        \"eta\",\n",
        "        \"type\",\n",
        "        \"name\"\n",
        "    ]\n",
        ")\n",
        "\n",
        "# and add all the info\n",
        "cities = [\n",
        "    \"Inverness\",\n",
        "    \"Aberdeen\",\n",
        "    \"Leuchars\",\n",
        "    \"StAndrews\",\n",
        "    \"Edinburgh\",\n",
        "    \"Glasgow\",\n",
        "    \"York\",\n",
        "    \"Cologne\",\n",
        "    \"Carlisle\",\n",
        "    \"Birmingham\",\n",
        "    \"London\",\n",
        "    \"Brussels\",\n",
        "    \"Toronto\",\n",
        "    \"Winnipeg\",\n",
        "    \"Saskatoon\",\n",
        "    \"Edmonton\",\n",
        "    \"Jasper\",\n",
        "    \"Vancouver\"\n",
        "  ];\n",
        "\n",
        "connections = [\n",
        "    ( \"Inverness\", \"Aberdeen\", 3, 2.5 ), # A, B, eta:A->B, eta:A<-B\n",
        "    ( \"Aberdeen\", \"Leuchars\", 1.5, 1 ),\n",
        "    ( \"Leuchars\", \"Edinburgh\", 1.5, 3 ),\n",
        "    ( \"Edinburgh\", \"Glasgow\", 1, 1 ),\n",
        "    ( \"Edinburgh\", \"York\", 3.5, 4 ),\n",
        "    ( \"Glasgow\", \"Carlisle\", 1, 1 ),\n",
        "    ( \"Carlisle\", \"York\", 2.5, 3.5 ),\n",
        "    ( \"Carlisle\", \"Birmingham\", 2.0, 1 ),\n",
        "    ( \"Birmingham\", \"London\", 1.5, 2.5 ),\n",
        "    ( \"Leuchars\", \"StAndrews\", 0.2, 0.2 ),\n",
        "    ( \"York\", \"London\", 1.8, 2.0 ),\n",
        "    ( \"London\", \"Brussels\", 2.5, 3.5 ),\n",
        "    ( \"Brussels\", \"Cologne\", 2, 1.5 ),\n",
        "    ( \"Toronto\", \"Winnipeg\", 36, 35 ),\n",
        "    ( \"Winnipeg\", \"Saskatoon\", 12, 5 ),\n",
        "    ( \"Saskatoon\", \"Edmonton\", 12, 17 ),\n",
        "    ( \"Edmonton\", \"Jasper\", 6, 5 ),\n",
        "    ( \"Jasper\", \"Vancouver\", 12, 13 )\n",
        "]"
      ],
      "execution_count": 18,
      "outputs": []
    },
    {
      "cell_type": "markdown",
      "metadata": {
        "id": "gALmMs-d_QCF",
        "colab_type": "text"
      },
      "source": [
        "## Basic Example\n",
        "USes the custom namespace with two cities, one route and the route with an specific eta.\n"
      ]
    },
    {
      "cell_type": "code",
      "metadata": {
        "id": "0JqSUpN-8lVq",
        "colab_type": "code",
        "colab": {
          "base_uri": "https://localhost:8080/",
          "height": 139
        },
        "outputId": "c2c173dd-5508-490c-b3fc-cbba01a34cd5",
        "tags": []
      },
      "source": [
        "g = Graph()\n",
        "# bind the dsb namespace, then it is not required when querying\n",
        "g.bind(\"dsb\", DSB)\n",
        "london = DSB.City + \"/London\"\n",
        "brussels = DSB.City + \"/Brussels\"\n",
        "\n",
        "first_train = DSB.Route + \"/01\" \n",
        "\n",
        "\n",
        "g.add((london, DSB.type, DSB.City))\n",
        "g.add((brussels, DSB.type, DSB.City))\n",
        "g.add((first_train, DSB.type, DSB.Route))\n",
        "g.add((first_train, DSB.eta, Literal(2.5)))\n",
        "\n",
        "g.add((london, DSB.connection, first_train))\n",
        "g.add((first_train, DSB.connection, brussels))\n",
        "\n",
        "#print all triples\n",
        "for s, p, o in g:\n",
        "   print((s, p, o))"
      ],
      "execution_count": 19,
      "outputs": [
        {
          "output_type": "stream",
          "name": "stdout",
          "text": "(rdflib.term.URIRef('https://og.dsb.org/Route/01'), rdflib.term.URIRef('https://og.dsb.org/connection'), rdflib.term.URIRef('https://og.dsb.org/City/Brussels'))\n(rdflib.term.URIRef('https://og.dsb.org/City/London'), rdflib.term.URIRef('https://og.dsb.org/type'), rdflib.term.URIRef('https://og.dsb.org/City'))\n(rdflib.term.URIRef('https://og.dsb.org/Route/01'), rdflib.term.URIRef('https://og.dsb.org/eta'), rdflib.term.Literal('2.5', datatype=rdflib.term.URIRef('http://www.w3.org/2001/XMLSchema#double')))\n(rdflib.term.URIRef('https://og.dsb.org/City/London'), rdflib.term.URIRef('https://og.dsb.org/connection'), rdflib.term.URIRef('https://og.dsb.org/Route/01'))\n(rdflib.term.URIRef('https://og.dsb.org/Route/01'), rdflib.term.URIRef('https://og.dsb.org/type'), rdflib.term.URIRef('https://og.dsb.org/Route'))\n(rdflib.term.URIRef('https://og.dsb.org/City/Brussels'), rdflib.term.URIRef('https://og.dsb.org/type'), rdflib.term.URIRef('https://og.dsb.org/City'))\n"
        }
      ]
    },
    {
      "cell_type": "code",
      "metadata": {
        "id": "O21xO_-h9TPo",
        "colab_type": "code",
        "colab": {
          "base_uri": "https://localhost:8080/",
          "height": 492
        },
        "outputId": "6d222e71-5118-467a-e034-fdceea82e9cb"
      },
      "source": [
        "visualize(g)"
      ],
      "execution_count": 20,
      "outputs": [
        {
          "output_type": "display_data",
          "data": {
            "image/png": "[encoded data removed]",
            "text/plain": "<IPython.core.display.Image object>"
          },
          "metadata": {}
        }
      ]
    },
    {
      "cell_type": "markdown",
      "metadata": {
        "id": "bJvv7286ATgd",
        "colab_type": "text"
      },
      "source": [
        "Query how these cities are connected"
      ]
    },
    {
      "cell_type": "code",
      "metadata": {
        "id": "_g6P0aR28qRe",
        "colab_type": "code",
        "colab": {
          "base_uri": "https://localhost:8080/",
          "height": 34
        },
        "outputId": "fb279c4c-b1fe-43f8-8094-008f3829d261",
        "tags": []
      },
      "source": [
        "result = g.query(\"\"\"SELECT DISTINCT ?city_from ?city_to\n",
        "WHERE  \n",
        "{\n",
        "    ?city_from dsb:type dsb:City .\n",
        "    ?city_to dsb:type dsb:City .\n",
        "    ?city_from dsb:connection+ ?city_to .\n",
        "    \n",
        "}\"\"\")\n",
        "for row in result:\n",
        "    print(row)"
      ],
      "execution_count": 21,
      "outputs": [
        {
          "output_type": "stream",
          "name": "stdout",
          "text": "(rdflib.term.URIRef('https://og.dsb.org/City/London'), rdflib.term.URIRef('https://og.dsb.org/City/Brussels'))\n"
        }
      ]
    },
    {
      "cell_type": "markdown",
      "metadata": {
        "id": "NHtlQwMTAUx6",
        "colab_type": "text"
      },
      "source": [
        "Same query including the estimated time"
      ]
    },
    {
      "cell_type": "code",
      "metadata": {
        "id": "osKfYMuKAHYw",
        "colab_type": "code",
        "colab": {
          "base_uri": "https://localhost:8080/",
          "height": 54
        },
        "outputId": "c73947d1-dcc5-4637-9614-a9b0c2f7be17",
        "tags": []
      },
      "source": [
        "result = g.query(\"\"\"SELECT DISTINCT ?city_from ?city_to ?eta\n",
        "WHERE  \n",
        "{\n",
        "    ?city_from dsb:type dsb:City .\n",
        "    ?city_to dsb:type dsb:City .\n",
        "    ?route dsb:type dsb:Route .\n",
        "    ?route dsb:eta ?eta .\n",
        "    ?city_from dsb:connection [ dsb:connection ?city_to ].\n",
        "}\"\"\")\n",
        "for row in result:\n",
        "    print(row)"
      ],
      "execution_count": 22,
      "outputs": [
        {
          "output_type": "stream",
          "name": "stdout",
          "text": "(rdflib.term.URIRef('https://og.dsb.org/City/London'), rdflib.term.URIRef('https://og.dsb.org/City/Brussels'), rdflib.term.Literal('2.5', datatype=rdflib.term.URIRef('http://www.w3.org/2001/XMLSchema#double')))\n"
        }
      ]
    },
    {
      "cell_type": "markdown",
      "metadata": {
        "id": "1k93QwFo_n8s",
        "colab_type": "text"
      },
      "source": [
        "## Part 1\n",
        "Put all cities and connections into the graph"
      ]
    },
    {
      "cell_type": "code",
      "metadata": {
        "id": "KFwnVh2q87RL",
        "colab_type": "code",
        "colab": {},
        "tags": [
          "outputPrepend"
        ]
      },
      "source": [
        "g = Graph()\n",
        "g.bind(\"dsb\", DSB)\n",
        "\n",
        "# Add cities and names\n",
        "for name in cities:\n",
        "    node = DSB.City + f\"/{name}\"\n",
        "\n",
        "    g.add((node, DSB.type, DSB.City))\n",
        "    g.add((node, DSB.name, Literal(name)))\n",
        "    \n",
        "# Add connections\n",
        "for i, connection in enumerate(connections):\n",
        "    a, b, from_a, from_b = connection\n",
        "    \n",
        "    # let's add some id's to the routes\n",
        "    route_from_a = DSB.Route +\"/\" + (f\"0{i*2}\")[-2:] \n",
        "    route_from_b = DSB.Route +\"/\" + (f\"0{(i*2) + 1}\")[-2:] \n",
        "    \n",
        "    # City id's\n",
        "    city_a = DSB.City + f\"/{a}\"\n",
        "    city_b = DSB.City + f\"/{b}\"\n",
        "    \n",
        "    # add routes\n",
        "    g.add((route_from_a, DSB.type, DSB.Route))\n",
        "    g.add((route_from_b, DSB.type, DSB.Route))\n",
        "\n",
        "    # add routes eta\n",
        "    g.add((route_from_a, DSB.eta, Literal(from_a)))\n",
        "    g.add((route_from_b, DSB.eta, Literal(from_b)))\n",
        "\n",
        "    # add city connection to route\n",
        "    g.add((city_a, DSB.connection, route_from_a))\n",
        "    g.add((city_b, DSB.connection, route_from_b))\n",
        "\n",
        "    # add connection route to city\n",
        "    g.add((route_from_a, DSB.connection, city_b))\n",
        "    g.add((route_from_b, DSB.connection, city_a))\n",
        "\n",
        "#print all triples\n",
        "for s, p, o in g:\n",
        "    print((s, p, o))"
      ],
      "execution_count": 23,
      "outputs": [
        {
          "output_type": "stream",
          "name": "stdout",
          "text": "dsb.org/City/Glasgow'), rdflib.term.URIRef('https://og.dsb.org/name'), rdflib.term.Literal('Glasgow'))\n(rdflib.term.URIRef('https://og.dsb.org/Route/03'), rdflib.term.URIRef('https://og.dsb.org/type'), rdflib.term.URIRef('https://og.dsb.org/Route'))\n(rdflib.term.URIRef('https://og.dsb.org/Route/24'), rdflib.term.URIRef('https://og.dsb.org/connection'), rdflib.term.URIRef('https://og.dsb.org/City/Cologne'))\n(rdflib.term.URIRef('https://og.dsb.org/City/Birmingham'), rdflib.term.URIRef('https://og.dsb.org/connection'), rdflib.term.URIRef('https://og.dsb.org/Route/16'))\n(rdflib.term.URIRef('https://og.dsb.org/City/Edinburgh'), rdflib.term.URIRef('https://og.dsb.org/connection'), rdflib.term.URIRef('https://og.dsb.org/Route/08'))\n(rdflib.term.URIRef('https://og.dsb.org/City/Vancouver'), rdflib.term.URIRef('https://og.dsb.org/type'), rdflib.term.URIRef('https://og.dsb.org/City'))\n(rdflib.term.URIRef('https://og.dsb.org/Route/11'), rdflib.term.URIRef('https://og.dsb.org/type'), rdflib.term.URIRef('https://og.dsb.org/Route'))\n(rdflib.term.URIRef('https://og.dsb.org/Route/08'), rdflib.term.URIRef('https://og.dsb.org/connection'), rdflib.term.URIRef('https://og.dsb.org/City/York'))\n(rdflib.term.URIRef('https://og.dsb.org/Route/19'), rdflib.term.URIRef('https://og.dsb.org/connection'), rdflib.term.URIRef('https://og.dsb.org/City/Leuchars'))\n(rdflib.term.URIRef('https://og.dsb.org/City/Edinburgh'), rdflib.term.URIRef('https://og.dsb.org/type'), rdflib.term.URIRef('https://og.dsb.org/City'))\n(rdflib.term.URIRef('https://og.dsb.org/City/Cologne'), rdflib.term.URIRef('https://og.dsb.org/connection'), rdflib.term.URIRef('https://og.dsb.org/Route/25'))\n(rdflib.term.URIRef('https://og.dsb.org/City/Vancouver'), rdflib.term.URIRef('https://og.dsb.org/name'), rdflib.term.Literal('Vancouver'))\n(rdflib.term.URIRef('https://og.dsb.org/Route/29'), rdflib.term.URIRef('https://og.dsb.org/connection'), rdflib.term.URIRef('https://og.dsb.org/City/Winnipeg'))\n(rdflib.term.URIRef('https://og.dsb.org/City/Edmonton'), rdflib.term.URIRef('https://og.dsb.org/name'), rdflib.term.Literal('Edmonton'))\n(rdflib.term.URIRef('https://og.dsb.org/City/Saskatoon'), rdflib.term.URIRef('https://og.dsb.org/name'), rdflib.term.Literal('Saskatoon'))\n(rdflib.term.URIRef('https://og.dsb.org/City/York'), rdflib.term.URIRef('https://og.dsb.org/type'), rdflib.term.URIRef('https://og.dsb.org/City'))\n(rdflib.term.URIRef('https://og.dsb.org/City/London'), rdflib.term.URIRef('https://og.dsb.org/type'), rdflib.term.URIRef('https://og.dsb.org/City'))\n(rdflib.term.URIRef('https://og.dsb.org/Route/06'), rdflib.term.URIRef('https://og.dsb.org/type'), rdflib.term.URIRef('https://og.dsb.org/Route'))\n(rdflib.term.URIRef('https://og.dsb.org/City/Glasgow'), rdflib.term.URIRef('https://og.dsb.org/connection'), rdflib.term.URIRef('https://og.dsb.org/Route/10'))\n(rdflib.term.URIRef('https://og.dsb.org/Route/23'), rdflib.term.URIRef('https://og.dsb.org/connection'), rdflib.term.URIRef('https://og.dsb.org/City/London'))\n(rdflib.term.URIRef('https://og.dsb.org/Route/26'), rdflib.term.URIRef('https://og.dsb.org/eta'), rdflib.term.Literal('36', datatype=rdflib.term.URIRef('http://www.w3.org/2001/XMLSchema#integer')))\n(rdflib.term.URIRef('https://og.dsb.org/Route/09'), rdflib.term.URIRef('https://og.dsb.org/eta'), rdflib.term.Literal('4', datatype=rdflib.term.URIRef('http://www.w3.org/2001/XMLSchema#integer')))\n(rdflib.term.URIRef('https://og.dsb.org/City/Brussels'), rdflib.term.URIRef('https://og.dsb.org/name'), rdflib.term.Literal('Brussels'))\n(rdflib.term.URIRef('https://og.dsb.org/Route/12'), rdflib.term.URIRef('https://og.dsb.org/connection'), rdflib.term.URIRef('https://og.dsb.org/City/York'))\n(rdflib.term.URIRef('https://og.dsb.org/Route/15'), rdflib.term.URIRef('https://og.dsb.org/eta'), rdflib.term.Literal('1', datatype=rdflib.term.URIRef('http://www.w3.org/2001/XMLSchema#integer')))\n(rdflib.term.URIRef('https://og.dsb.org/Route/02'), rdflib.term.URIRef('https://og.dsb.org/connection'), rdflib.term.URIRef('https://og.dsb.org/City/Leuchars'))\n(rdflib.term.URIRef('https://og.dsb.org/City/Cologne'), rdflib.term.URIRef('https://og.dsb.org/type'), rdflib.term.URIRef('https://og.dsb.org/City'))\n(rdflib.term.URIRef('https://og.dsb.org/Route/18'), rdflib.term.URIRef('https://og.dsb.org/eta'), rdflib.term.Literal('0.2', datatype=rdflib.term.URIRef('http://www.w3.org/2001/XMLSchema#double')))\n(rdflib.term.URIRef('https://og.dsb.org/Route/31'), rdflib.term.URIRef('https://og.dsb.org/type'), rdflib.term.URIRef('https://og.dsb.org/Route'))\n(rdflib.term.URIRef('https://og.dsb.org/Route/30'), rdflib.term.URIRef('https://og.dsb.org/type'), rdflib.term.URIRef('https://og.dsb.org/Route'))\n(rdflib.term.URIRef('https://og.dsb.org/Route/32'), rdflib.term.URIRef('https://og.dsb.org/type'), rdflib.term.URIRef('https://og.dsb.org/Route'))\n(rdflib.term.URIRef('https://og.dsb.org/City/Toronto'), rdflib.term.URIRef('https://og.dsb.org/connection'), rdflib.term.URIRef('https://og.dsb.org/Route/26'))\n(rdflib.term.URIRef('https://og.dsb.org/Route/23'), rdflib.term.URIRef('https://og.dsb.org/eta'), rdflib.term.Literal('3.5', datatype=rdflib.term.URIRef('http://www.w3.org/2001/XMLSchema#double')))\n(rdflib.term.URIRef('https://og.dsb.org/City/Carlisle'), rdflib.term.URIRef('https://og.dsb.org/name'), rdflib.term.Literal('Carlisle'))\n(rdflib.term.URIRef('https://og.dsb.org/Route/08'), rdflib.term.URIRef('https://og.dsb.org/eta'), rdflib.term.Literal('3.5', datatype=rdflib.term.URIRef('http://www.w3.org/2001/XMLSchema#double')))\n(rdflib.term.URIRef('https://og.dsb.org/City/Edmonton'), rdflib.term.URIRef('https://og.dsb.org/connection'), rdflib.term.URIRef('https://og.dsb.org/Route/31'))\n(rdflib.term.URIRef('https://og.dsb.org/Route/32'), rdflib.term.URIRef('https://og.dsb.org/eta'), rdflib.term.Literal('6', datatype=rdflib.term.URIRef('http://www.w3.org/2001/XMLSchema#integer')))\n(rdflib.term.URIRef('https://og.dsb.org/Route/23'), rdflib.term.URIRef('https://og.dsb.org/type'), rdflib.term.URIRef('https://og.dsb.org/Route'))\n(rdflib.term.URIRef('https://og.dsb.org/Route/13'), rdflib.term.URIRef('https://og.dsb.org/connection'), rdflib.term.URIRef('https://og.dsb.org/City/Carlisle'))\n(rdflib.term.URIRef('https://og.dsb.org/City/Leuchars'), rdflib.term.URIRef('https://og.dsb.org/type'), rdflib.term.URIRef('https://og.dsb.org/City'))\n(rdflib.term.URIRef('https://og.dsb.org/Route/02'), rdflib.term.URIRef('https://og.dsb.org/type'), rdflib.term.URIRef('https://og.dsb.org/Route'))\n(rdflib.term.URIRef('https://og.dsb.org/Route/04'), rdflib.term.URIRef('https://og.dsb.org/eta'), rdflib.term.Literal('1.5', datatype=rdflib.term.URIRef('http://www.w3.org/2001/XMLSchema#double')))\n(rdflib.term.URIRef('https://og.dsb.org/City/London'), rdflib.term.URIRef('https://og.dsb.org/connection'), rdflib.term.URIRef('https://og.dsb.org/Route/17'))\n(rdflib.term.URIRef('https://og.dsb.org/Route/33'), rdflib.term.URIRef('https://og.dsb.org/eta'), rdflib.term.Literal('5', datatype=rdflib.term.URIRef('http://www.w3.org/2001/XMLSchema#integer')))\n(rdflib.term.URIRef('https://og.dsb.org/Route/02'), rdflib.term.URIRef('https://og.dsb.org/eta'), rdflib.term.Literal('1.5', datatype=rdflib.term.URIRef('http://www.w3.org/2001/XMLSchema#double')))\n(rdflib.term.URIRef('https://og.dsb.org/Route/04'), rdflib.term.URIRef('https://og.dsb.org/connection'), rdflib.term.URIRef('https://og.dsb.org/City/Edinburgh'))\n(rdflib.term.URIRef('https://og.dsb.org/City/Jasper'), rdflib.term.URIRef('https://og.dsb.org/connection'), rdflib.term.URIRef('https://og.dsb.org/Route/34'))\n(rdflib.term.URIRef('https://og.dsb.org/Route/12'), rdflib.term.URIRef('https://og.dsb.org/eta'), rdflib.term.Literal('2.5', datatype=rdflib.term.URIRef('http://www.w3.org/2001/XMLSchema#double')))\n(rdflib.term.URIRef('https://og.dsb.org/Route/14'), rdflib.term.URIRef('https://og.dsb.org/eta'), rdflib.term.Literal('2.0', datatype=rdflib.term.URIRef('http://www.w3.org/2001/XMLSchema#double')))\n(rdflib.term.URIRef('https://og.dsb.org/City/Saskatoon'), rdflib.term.URIRef('https://og.dsb.org/connection'), rdflib.term.URIRef('https://og.dsb.org/Route/29'))\n(rdflib.term.URIRef('https://og.dsb.org/City/Aberdeen'), rdflib.term.URIRef('https://og.dsb.org/connection'), rdflib.term.URIRef('https://og.dsb.org/Route/01'))\n(rdflib.term.URIRef('https://og.dsb.org/City/Leuchars'), rdflib.term.URIRef('https://og.dsb.org/connection'), rdflib.term.URIRef('https://og.dsb.org/Route/04'))\n(rdflib.term.URIRef('https://og.dsb.org/Route/21'), rdflib.term.URIRef('https://og.dsb.org/type'), rdflib.term.URIRef('https://og.dsb.org/Route'))\n(rdflib.term.URIRef('https://og.dsb.org/City/Brussels'), rdflib.term.URIRef('https://og.dsb.org/type'), rdflib.term.URIRef('https://og.dsb.org/City'))\n(rdflib.term.URIRef('https://og.dsb.org/Route/22'), rdflib.term.URIRef('https://og.dsb.org/type'), rdflib.term.URIRef('https://og.dsb.org/Route'))\n(rdflib.term.URIRef('https://og.dsb.org/Route/10'), rdflib.term.URIRef('https://og.dsb.org/eta'), rdflib.term.Literal('1', datatype=rdflib.term.URIRef('http://www.w3.org/2001/XMLSchema#integer')))\n(rdflib.term.URIRef('https://og.dsb.org/Route/05'), rdflib.term.URIRef('https://og.dsb.org/type'), rdflib.term.URIRef('https://og.dsb.org/Route'))\n(rdflib.term.URIRef('https://og.dsb.org/Route/18'), rdflib.term.URIRef('https://og.dsb.org/type'), rdflib.term.URIRef('https://og.dsb.org/Route'))\n(rdflib.term.URIRef('https://og.dsb.org/Route/00'), rdflib.term.URIRef('https://og.dsb.org/connection'), rdflib.term.URIRef('https://og.dsb.org/City/Aberdeen'))\n(rdflib.term.URIRef('https://og.dsb.org/Route/01'), rdflib.term.URIRef('https://og.dsb.org/eta'), rdflib.term.Literal('2.5', datatype=rdflib.term.URIRef('http://www.w3.org/2001/XMLSchema#double')))\n(rdflib.term.URIRef('https://og.dsb.org/City/Winnipeg'), rdflib.term.URIRef('https://og.dsb.org/connection'), rdflib.term.URIRef('https://og.dsb.org/Route/27'))\n(rdflib.term.URIRef('https://og.dsb.org/Route/28'), rdflib.term.URIRef('https://og.dsb.org/eta'), rdflib.term.Literal('12', datatype=rdflib.term.URIRef('http://www.w3.org/2001/XMLSchema#integer')))\n(rdflib.term.URIRef('https://og.dsb.org/City/Leuchars'), rdflib.term.URIRef('https://og.dsb.org/connection'), rdflib.term.URIRef('https://og.dsb.org/Route/18'))\n(rdflib.term.URIRef('https://og.dsb.org/City/Saskatoon'), rdflib.term.URIRef('https://og.dsb.org/type'), rdflib.term.URIRef('https://og.dsb.org/City'))\n(rdflib.term.URIRef('https://og.dsb.org/Route/05'), rdflib.term.URIRef('https://og.dsb.org/eta'), rdflib.term.Literal('3', datatype=rdflib.term.URIRef('http://www.w3.org/2001/XMLSchema#integer')))\n(rdflib.term.URIRef('https://og.dsb.org/Route/35'), rdflib.term.URIRef('https://og.dsb.org/connection'), rdflib.term.URIRef('https://og.dsb.org/City/Jasper'))\n(rdflib.term.URIRef('https://og.dsb.org/Route/16'), rdflib.term.URIRef('https://og.dsb.org/connection'), rdflib.term.URIRef('https://og.dsb.org/City/London'))\n(rdflib.term.URIRef('https://og.dsb.org/Route/27'), rdflib.term.URIRef('https://og.dsb.org/type'), rdflib.term.URIRef('https://og.dsb.org/Route'))\n(rdflib.term.URIRef('https://og.dsb.org/Route/15'), rdflib.term.URIRef('https://og.dsb.org/connection'), rdflib.term.URIRef('https://og.dsb.org/City/Carlisle'))\n(rdflib.term.URIRef('https://og.dsb.org/Route/18'), rdflib.term.URIRef('https://og.dsb.org/connection'), rdflib.term.URIRef('https://og.dsb.org/City/StAndrews'))\n(rdflib.term.URIRef('https://og.dsb.org/City/Winnipeg'), rdflib.term.URIRef('https://og.dsb.org/type'), rdflib.term.URIRef('https://og.dsb.org/City'))\n(rdflib.term.URIRef('https://og.dsb.org/Route/31'), rdflib.term.URIRef('https://og.dsb.org/connection'), rdflib.term.URIRef('https://og.dsb.org/City/Saskatoon'))\n(rdflib.term.URIRef('https://og.dsb.org/City/Toronto'), rdflib.term.URIRef('https://og.dsb.org/name'), rdflib.term.Literal('Toronto'))\n(rdflib.term.URIRef('https://og.dsb.org/City/London'), rdflib.term.URIRef('https://og.dsb.org/name'), rdflib.term.Literal('London'))\n(rdflib.term.URIRef('https://og.dsb.org/Route/27'), rdflib.term.URIRef('https://og.dsb.org/eta'), rdflib.term.Literal('35', datatype=rdflib.term.URIRef('http://www.w3.org/2001/XMLSchema#integer')))\n(rdflib.term.URIRef('https://og.dsb.org/Route/03'), rdflib.term.URIRef('https://og.dsb.org/connection'), rdflib.term.URIRef('https://og.dsb.org/City/Aberdeen'))\n(rdflib.term.URIRef('https://og.dsb.org/Route/27'), rdflib.term.URIRef('https://og.dsb.org/connection'), rdflib.term.URIRef('https://og.dsb.org/City/Toronto'))\n(rdflib.term.URIRef('https://og.dsb.org/City/Inverness'), rdflib.term.URIRef('https://og.dsb.org/type'), rdflib.term.URIRef('https://og.dsb.org/City'))\n(rdflib.term.URIRef('https://og.dsb.org/City/Birmingham'), rdflib.term.URIRef('https://og.dsb.org/connection'), rdflib.term.URIRef('https://og.dsb.org/Route/15'))\n(rdflib.term.URIRef('https://og.dsb.org/Route/20'), rdflib.term.URIRef('https://og.dsb.org/eta'), rdflib.term.Literal('1.8', datatype=rdflib.term.URIRef('http://www.w3.org/2001/XMLSchema#double')))\n(rdflib.term.URIRef('https://og.dsb.org/Route/31'), rdflib.term.URIRef('https://og.dsb.org/eta'), rdflib.term.Literal('17', datatype=rdflib.term.URIRef('http://www.w3.org/2001/XMLSchema#integer')))\n(rdflib.term.URIRef('https://og.dsb.org/Route/06'), rdflib.term.URIRef('https://og.dsb.org/eta'), rdflib.term.Literal('1', datatype=rdflib.term.URIRef('http://www.w3.org/2001/XMLSchema#integer')))\n(rdflib.term.URIRef('https://og.dsb.org/City/Leuchars'), rdflib.term.URIRef('https://og.dsb.org/connection'), rdflib.term.URIRef('https://og.dsb.org/Route/03'))\n(rdflib.term.URIRef('https://og.dsb.org/Route/06'), rdflib.term.URIRef('https://og.dsb.org/connection'), rdflib.term.URIRef('https://og.dsb.org/City/Glasgow'))\n(rdflib.term.URIRef('https://og.dsb.org/Route/29'), rdflib.term.URIRef('https://og.dsb.org/eta'), rdflib.term.Literal('5', datatype=rdflib.term.URIRef('http://www.w3.org/2001/XMLSchema#integer')))\n(rdflib.term.URIRef('https://og.dsb.org/City/Brussels'), rdflib.term.URIRef('https://og.dsb.org/connection'), rdflib.term.URIRef('https://og.dsb.org/Route/23'))\n(rdflib.term.URIRef('https://og.dsb.org/Route/33'), rdflib.term.URIRef('https://og.dsb.org/connection'), rdflib.term.URIRef('https://og.dsb.org/City/Edmonton'))\n(rdflib.term.URIRef('https://og.dsb.org/Route/14'), rdflib.term.URIRef('https://og.dsb.org/connection'), rdflib.term.URIRef('https://og.dsb.org/City/Birmingham'))\n(rdflib.term.URIRef('https://og.dsb.org/Route/04'), rdflib.term.URIRef('https://og.dsb.org/type'), rdflib.term.URIRef('https://og.dsb.org/Route'))\n(rdflib.term.URIRef('https://og.dsb.org/City/London'), rdflib.term.URIRef('https://og.dsb.org/connection'), rdflib.term.URIRef('https://og.dsb.org/Route/22'))\n(rdflib.term.URIRef('https://og.dsb.org/Route/22'), rdflib.term.URIRef('https://og.dsb.org/connection'), rdflib.term.URIRef('https://og.dsb.org/City/Brussels'))\n(rdflib.term.URIRef('https://og.dsb.org/Route/33'), rdflib.term.URIRef('https://og.dsb.org/type'), rdflib.term.URIRef('https://og.dsb.org/Route'))\n(rdflib.term.URIRef('https://og.dsb.org/Route/12'), rdflib.term.URIRef('https://og.dsb.org/type'), rdflib.term.URIRef('https://og.dsb.org/Route'))\n(rdflib.term.URIRef('https://og.dsb.org/City/StAndrews'), rdflib.term.URIRef('https://og.dsb.org/type'), rdflib.term.URIRef('https://og.dsb.org/City'))\n(rdflib.term.URIRef('https://og.dsb.org/Route/13'), rdflib.term.URIRef('https://og.dsb.org/type'), rdflib.term.URIRef('https://og.dsb.org/Route'))\n(rdflib.term.URIRef('https://og.dsb.org/Route/34'), rdflib.term.URIRef('https://og.dsb.org/eta'), rdflib.term.Literal('12', datatype=rdflib.term.URIRef('http://www.w3.org/2001/XMLSchema#integer')))\n(rdflib.term.URIRef('https://og.dsb.org/Route/13'), rdflib.term.URIRef('https://og.dsb.org/eta'), rdflib.term.Literal('3.5', datatype=rdflib.term.URIRef('http://www.w3.org/2001/XMLSchema#double')))\n(rdflib.term.URIRef('https://og.dsb.org/City/Birmingham'), rdflib.term.URIRef('https://og.dsb.org/name'), rdflib.term.Literal('Birmingham'))\n(rdflib.term.URIRef('https://og.dsb.org/City/Winnipeg'), rdflib.term.URIRef('https://og.dsb.org/name'), rdflib.term.Literal('Winnipeg'))\n(rdflib.term.URIRef('https://og.dsb.org/Route/20'), rdflib.term.URIRef('https://og.dsb.org/connection'), rdflib.term.URIRef('https://og.dsb.org/City/London'))\n(rdflib.term.URIRef('https://og.dsb.org/Route/30'), rdflib.term.URIRef('https://og.dsb.org/eta'), rdflib.term.Literal('12', datatype=rdflib.term.URIRef('http://www.w3.org/2001/XMLSchema#integer')))\n(rdflib.term.URIRef('https://og.dsb.org/City/Edinburgh'), rdflib.term.URIRef('https://og.dsb.org/connection'), rdflib.term.URIRef('https://og.dsb.org/Route/06'))\n(rdflib.term.URIRef('https://og.dsb.org/City/Cologne'), rdflib.term.URIRef('https://og.dsb.org/name'), rdflib.term.Literal('Cologne'))\n(rdflib.term.URIRef('https://og.dsb.org/Route/28'), rdflib.term.URIRef('https://og.dsb.org/type'), rdflib.term.URIRef('https://og.dsb.org/Route'))\n(rdflib.term.URIRef('https://og.dsb.org/City/York'), rdflib.term.URIRef('https://og.dsb.org/connection'), rdflib.term.URIRef('https://og.dsb.org/Route/20'))\n(rdflib.term.URIRef('https://og.dsb.org/Route/08'), rdflib.term.URIRef('https://og.dsb.org/type'), rdflib.term.URIRef('https://og.dsb.org/Route'))\n(rdflib.term.URIRef('https://og.dsb.org/Route/26'), rdflib.term.URIRef('https://og.dsb.org/type'), rdflib.term.URIRef('https://og.dsb.org/Route'))\n(rdflib.term.URIRef('https://og.dsb.org/Route/17'), rdflib.term.URIRef('https://og.dsb.org/eta'), rdflib.term.Literal('2.5', datatype=rdflib.term.URIRef('http://www.w3.org/2001/XMLSchema#double')))\n(rdflib.term.URIRef('https://og.dsb.org/Route/16'), rdflib.term.URIRef('https://og.dsb.org/type'), rdflib.term.URIRef('https://og.dsb.org/Route'))\n(rdflib.term.URIRef('https://og.dsb.org/Route/29'), rdflib.term.URIRef('https://og.dsb.org/type'), rdflib.term.URIRef('https://og.dsb.org/Route'))\n(rdflib.term.URIRef('https://og.dsb.org/Route/17'), rdflib.term.URIRef('https://og.dsb.org/type'), rdflib.term.URIRef('https://og.dsb.org/Route'))\n(rdflib.term.URIRef('https://og.dsb.org/City/Carlisle'), rdflib.term.URIRef('https://og.dsb.org/connection'), rdflib.term.URIRef('https://og.dsb.org/Route/11'))\n(rdflib.term.URIRef('https://og.dsb.org/Route/35'), rdflib.term.URIRef('https://og.dsb.org/type'), rdflib.term.URIRef('https://og.dsb.org/Route'))\n(rdflib.term.URIRef('https://og.dsb.org/Route/11'), rdflib.term.URIRef('https://og.dsb.org/connection'), rdflib.term.URIRef('https://og.dsb.org/City/Glasgow'))\n(rdflib.term.URIRef('https://og.dsb.org/Route/10'), rdflib.term.URIRef('https://og.dsb.org/connection'), rdflib.term.URIRef('https://og.dsb.org/City/Carlisle'))\n(rdflib.term.URIRef('https://og.dsb.org/City/Carlisle'), rdflib.term.URIRef('https://og.dsb.org/type'), rdflib.term.URIRef('https://og.dsb.org/City'))\n(rdflib.term.URIRef('https://og.dsb.org/City/Leuchars'), rdflib.term.URIRef('https://og.dsb.org/name'), rdflib.term.Literal('Leuchars'))\n(rdflib.term.URIRef('https://og.dsb.org/Route/07'), rdflib.term.URIRef('https://og.dsb.org/type'), rdflib.term.URIRef('https://og.dsb.org/Route'))\n(rdflib.term.URIRef('https://og.dsb.org/Route/14'), rdflib.term.URIRef('https://og.dsb.org/type'), rdflib.term.URIRef('https://og.dsb.org/Route'))\n(rdflib.term.URIRef('https://og.dsb.org/City/Inverness'), rdflib.term.URIRef('https://og.dsb.org/name'), rdflib.term.Literal('Inverness'))\n(rdflib.term.URIRef('https://og.dsb.org/Route/00'), rdflib.term.URIRef('https://og.dsb.org/type'), rdflib.term.URIRef('https://og.dsb.org/Route'))\n(rdflib.term.URIRef('https://og.dsb.org/Route/20'), rdflib.term.URIRef('https://og.dsb.org/type'), rdflib.term.URIRef('https://og.dsb.org/Route'))\n(rdflib.term.URIRef('https://og.dsb.org/Route/32'), rdflib.term.URIRef('https://og.dsb.org/connection'), rdflib.term.URIRef('https://og.dsb.org/City/Jasper'))\n(rdflib.term.URIRef('https://og.dsb.org/Route/25'), rdflib.term.URIRef('https://og.dsb.org/connection'), rdflib.term.URIRef('https://og.dsb.org/City/Brussels'))\n"
        }
      ]
    },
    {
      "cell_type": "code",
      "metadata": {
        "id": "ChktMQT8JNKo",
        "colab_type": "code",
        "colab": {
          "base_uri": "https://localhost:8080/",
          "height": 102
        },
        "outputId": "14dad441-aa8c-47fc-a007-add031c932d3",
        "tags": []
      },
      "source": [
        "# What do we know from London?\n",
        "london = DSB.City + \"/London\"\n",
        "for p, o in g.predicate_objects(subject=london):\n",
        "    print(p, o)\n",
        "\n",
        "# Connects to 3 Routes, is a city and has the name London"
      ],
      "execution_count": 24,
      "outputs": [
        {
          "output_type": "stream",
          "name": "stdout",
          "text": "https://og.dsb.org/name London\nhttps://og.dsb.org/connection https://og.dsb.org/Route/21\nhttps://og.dsb.org/type https://og.dsb.org/City\nhttps://og.dsb.org/connection https://og.dsb.org/Route/22\nhttps://og.dsb.org/connection https://og.dsb.org/Route/17\n"
        }
      ]
    },
    {
      "cell_type": "markdown",
      "metadata": {
        "id": "F_BGDUUYQa9G",
        "colab_type": "text"
      },
      "source": [
        "## Part 2"
      ]
    },
    {
      "cell_type": "code",
      "metadata": {
        "id": "dnqmvjAaF9ZI",
        "colab_type": "code",
        "colab": {
          "base_uri": "https://localhost:8080/",
          "height": 204
        },
        "outputId": "ed2863f6-76fe-4a9c-aa86-fa6e13c86642",
        "tags": []
      },
      "source": [
        "# Let's print all cities that can be reached from london, we exclude routes from London to London\n",
        "result = g.query(\"\"\"SELECT DISTINCT ?from ?to\n",
        "WHERE  \n",
        "{\n",
        "    ?from dsb:type dsb:City .\n",
        "    ?to dsb:type dsb:City .\n",
        "    ?from dsb:name \"London\" .\n",
        "    ?from dsb:connection+ ?to .\n",
        "    FILTER (?from != ?to)\n",
        "    \n",
        "}\"\"\")\n",
        "for row in result:\n",
        "    print(row)"
      ],
      "execution_count": 25,
      "outputs": [
        {
          "output_type": "stream",
          "name": "stdout",
          "text": "(rdflib.term.URIRef('https://og.dsb.org/City/London'), rdflib.term.URIRef('https://og.dsb.org/City/Birmingham'))\n(rdflib.term.URIRef('https://og.dsb.org/City/London'), rdflib.term.URIRef('https://og.dsb.org/City/Glasgow'))\n(rdflib.term.URIRef('https://og.dsb.org/City/London'), rdflib.term.URIRef('https://og.dsb.org/City/Leuchars'))\n(rdflib.term.URIRef('https://og.dsb.org/City/London'), rdflib.term.URIRef('https://og.dsb.org/City/Inverness'))\n(rdflib.term.URIRef('https://og.dsb.org/City/London'), rdflib.term.URIRef('https://og.dsb.org/City/Aberdeen'))\n(rdflib.term.URIRef('https://og.dsb.org/City/London'), rdflib.term.URIRef('https://og.dsb.org/City/Cologne'))\n(rdflib.term.URIRef('https://og.dsb.org/City/London'), rdflib.term.URIRef('https://og.dsb.org/City/Brussels'))\n(rdflib.term.URIRef('https://og.dsb.org/City/London'), rdflib.term.URIRef('https://og.dsb.org/City/Carlisle'))\n(rdflib.term.URIRef('https://og.dsb.org/City/London'), rdflib.term.URIRef('https://og.dsb.org/City/York'))\n(rdflib.term.URIRef('https://og.dsb.org/City/London'), rdflib.term.URIRef('https://og.dsb.org/City/StAndrews'))\n(rdflib.term.URIRef('https://og.dsb.org/City/London'), rdflib.term.URIRef('https://og.dsb.org/City/Edinburgh'))\n"
        }
      ]
    },
    {
      "cell_type": "code",
      "metadata": {
        "id": "yTqWE5DUMH_C",
        "colab_type": "code",
        "colab": {
          "base_uri": "https://localhost:8080/",
          "height": 204
        },
        "outputId": "63f27efd-2cd7-4667-acee-b8dcdba72005",
        "tags": []
      },
      "source": [
        "# Let's print only the city names\n",
        "result = g.query(\"\"\"SELECT DISTINCT ?to_name\n",
        "WHERE  \n",
        "{\n",
        "    ?from dsb:type dsb:City .\n",
        "    ?to dsb:type dsb:City .\n",
        "\n",
        "    ?from dsb:name \"London\" .\n",
        "    \n",
        "    ?from dsb:connection+ ?to .\n",
        "    \n",
        "    ?to dsb:name ?to_name .\n",
        "    \n",
        "    FILTER (?from != ?to)\n",
        "}\"\"\")\n",
        "for row in result:\n",
        "    print(row)"
      ],
      "execution_count": 26,
      "outputs": [
        {
          "output_type": "stream",
          "name": "stdout",
          "text": "(rdflib.term.Literal('Birmingham'),)\n(rdflib.term.Literal('Glasgow'),)\n(rdflib.term.Literal('Leuchars'),)\n(rdflib.term.Literal('Inverness'),)\n(rdflib.term.Literal('Aberdeen'),)\n(rdflib.term.Literal('Cologne'),)\n(rdflib.term.Literal('Brussels'),)\n(rdflib.term.Literal('Carlisle'),)\n(rdflib.term.Literal('York'),)\n(rdflib.term.Literal('StAndrews'),)\n(rdflib.term.Literal('Edinburgh'),)\n"
        }
      ]
    },
    {
      "cell_type": "markdown",
      "metadata": {
        "id": "2eQJjmLkQV_L",
        "colab_type": "text"
      },
      "source": [
        "### Bonus"
      ]
    },
    {
      "cell_type": "code",
      "metadata": {
        "id": "K3pOMddqNnIB",
        "colab_type": "code",
        "colab": {
          "base_uri": "https://localhost:8080/",
          "height": 34
        },
        "outputId": "b991b8c3-ca82-4b7a-aaf5-0973907e1a29"
      },
      "source": [
        "# Not done yet, quite difficult!!!!"
      ],
      "execution_count": 27,
      "outputs": []
    }
  ]
}